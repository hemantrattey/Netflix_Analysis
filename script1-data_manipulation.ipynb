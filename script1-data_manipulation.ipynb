{
 "metadata": {
  "language_info": {
   "codemirror_mode": {
    "name": "ipython",
    "version": 3
   },
   "file_extension": ".py",
   "mimetype": "text/x-python",
   "name": "python",
   "nbconvert_exporter": "python",
   "pygments_lexer": "ipython3",
   "version": "3.9.2"
  },
  "orig_nbformat": 2,
  "kernelspec": {
   "name": "python392jvsc74a57bd08cd0c579ee2ada96e06c86687db901674a0b3b5b8d48e5f9f308da5c1a238340",
   "display_name": "Python 3.9.2 64-bit ('minimalds': conda)"
  }
 },
 "nbformat": 4,
 "nbformat_minor": 2,
 "cells": [
  {
   "cell_type": "code",
   "execution_count": 24,
   "metadata": {},
   "outputs": [],
   "source": [
    "import pandas as pd\n",
    "import os\n",
    "import matplotlib.pyplot as plt\n",
    "import seaborn as sns"
   ]
  },
  {
   "cell_type": "code",
   "execution_count": 25,
   "metadata": {},
   "outputs": [
    {
     "output_type": "execute_result",
     "data": {
      "text/plain": [
       "'e:\\\\Hemant\\\\Data Science\\\\Portfolio Projects\\\\Netflix'"
      ]
     },
     "metadata": {},
     "execution_count": 25
    }
   ],
   "source": [
    "pwd = os.getcwd()\n",
    "pwd"
   ]
  },
  {
   "cell_type": "code",
   "execution_count": 26,
   "metadata": {},
   "outputs": [
    {
     "output_type": "execute_result",
     "data": {
      "text/plain": [
       "'e:\\\\Hemant\\\\Data Science\\\\Portfolio Projects\\\\Netflix\\\\netflix-report\\\\CONTENT_INTERACTION\\\\ViewingActivity.csv'"
      ]
     },
     "metadata": {},
     "execution_count": 26
    }
   ],
   "source": [
    "filepath = pwd + '\\\\netflix-report\\\\CONTENT_INTERACTION\\\\ViewingActivity.csv'\n",
    "filepath"
   ]
  },
  {
   "cell_type": "code",
   "execution_count": 27,
   "metadata": {},
   "outputs": [
    {
     "output_type": "execute_result",
     "data": {
      "text/plain": [
       "  Profile Name           Start Time  Duration  \\\n",
       "0         Kids  2020-05-10 10:05:12  00:00:05   \n",
       "1         Kids  2020-04-12 09:00:28  01:16:56   \n",
       "2       Rattey  2021-04-19 11:10:06  00:38:26   \n",
       "3       Rattey  2021-04-19 08:43:26  00:00:51   \n",
       "4       Rattey  2021-04-19 08:42:06  00:01:17   \n",
       "\n",
       "                                    Attributes  \\\n",
       "0              Autoplayed: user action: None;    \n",
       "1                                          NaN   \n",
       "2                                          NaN   \n",
       "3                                          NaN   \n",
       "4  Autoplayed: user action: User_Interaction;    \n",
       "\n",
       "                                               Title Supplemental Video Type  \\\n",
       "0  DreamWorks How to Train Your Dragon Legends: V...                    HOOK   \n",
       "1                           How to Train Your Dragon                     NaN   \n",
       "2  The Real Housewives of Beverly Hills: Season 1...                     NaN   \n",
       "3  The Fix: Season 1: Let's Fix Immigration (Epis...                     NaN   \n",
       "4  The Fix: Season 1: Let's Fix Social Media (Epi...                     NaN   \n",
       "\n",
       "                                   Device Type  Bookmark Latest Bookmark  \\\n",
       "0  MStar PureTurnkey51 Skyworth OEM2K Smart TV  00:00:05        00:00:05   \n",
       "1                          Chrome PC (Cadmium)  01:30:35        01:30:35   \n",
       "2                          Chrome PC (Cadmium)  00:40:47        00:40:47   \n",
       "3                          Chrome PC (Cadmium)  00:01:01        00:01:01   \n",
       "4                          Chrome PC (Cadmium)  00:29:20        00:29:20   \n",
       "\n",
       "      Country  \n",
       "0  IN (India)  \n",
       "1  IN (India)  \n",
       "2  IN (India)  \n",
       "3  IN (India)  \n",
       "4  IN (India)  "
      ],
      "text/html": "<div>\n<style scoped>\n    .dataframe tbody tr th:only-of-type {\n        vertical-align: middle;\n    }\n\n    .dataframe tbody tr th {\n        vertical-align: top;\n    }\n\n    .dataframe thead th {\n        text-align: right;\n    }\n</style>\n<table border=\"1\" class=\"dataframe\">\n  <thead>\n    <tr style=\"text-align: right;\">\n      <th></th>\n      <th>Profile Name</th>\n      <th>Start Time</th>\n      <th>Duration</th>\n      <th>Attributes</th>\n      <th>Title</th>\n      <th>Supplemental Video Type</th>\n      <th>Device Type</th>\n      <th>Bookmark</th>\n      <th>Latest Bookmark</th>\n      <th>Country</th>\n    </tr>\n  </thead>\n  <tbody>\n    <tr>\n      <th>0</th>\n      <td>Kids</td>\n      <td>2020-05-10 10:05:12</td>\n      <td>00:00:05</td>\n      <td>Autoplayed: user action: None;</td>\n      <td>DreamWorks How to Train Your Dragon Legends: V...</td>\n      <td>HOOK</td>\n      <td>MStar PureTurnkey51 Skyworth OEM2K Smart TV</td>\n      <td>00:00:05</td>\n      <td>00:00:05</td>\n      <td>IN (India)</td>\n    </tr>\n    <tr>\n      <th>1</th>\n      <td>Kids</td>\n      <td>2020-04-12 09:00:28</td>\n      <td>01:16:56</td>\n      <td>NaN</td>\n      <td>How to Train Your Dragon</td>\n      <td>NaN</td>\n      <td>Chrome PC (Cadmium)</td>\n      <td>01:30:35</td>\n      <td>01:30:35</td>\n      <td>IN (India)</td>\n    </tr>\n    <tr>\n      <th>2</th>\n      <td>Rattey</td>\n      <td>2021-04-19 11:10:06</td>\n      <td>00:38:26</td>\n      <td>NaN</td>\n      <td>The Real Housewives of Beverly Hills: Season 1...</td>\n      <td>NaN</td>\n      <td>Chrome PC (Cadmium)</td>\n      <td>00:40:47</td>\n      <td>00:40:47</td>\n      <td>IN (India)</td>\n    </tr>\n    <tr>\n      <th>3</th>\n      <td>Rattey</td>\n      <td>2021-04-19 08:43:26</td>\n      <td>00:00:51</td>\n      <td>NaN</td>\n      <td>The Fix: Season 1: Let's Fix Immigration (Epis...</td>\n      <td>NaN</td>\n      <td>Chrome PC (Cadmium)</td>\n      <td>00:01:01</td>\n      <td>00:01:01</td>\n      <td>IN (India)</td>\n    </tr>\n    <tr>\n      <th>4</th>\n      <td>Rattey</td>\n      <td>2021-04-19 08:42:06</td>\n      <td>00:01:17</td>\n      <td>Autoplayed: user action: User_Interaction;</td>\n      <td>The Fix: Season 1: Let's Fix Social Media (Epi...</td>\n      <td>NaN</td>\n      <td>Chrome PC (Cadmium)</td>\n      <td>00:29:20</td>\n      <td>00:29:20</td>\n      <td>IN (India)</td>\n    </tr>\n  </tbody>\n</table>\n</div>"
     },
     "metadata": {},
     "execution_count": 27
    }
   ],
   "source": [
    "df = pd.read_csv(filepath)\n",
    "df.head()"
   ]
  },
  {
   "cell_type": "code",
   "execution_count": 28,
   "metadata": {},
   "outputs": [
    {
     "output_type": "execute_result",
     "data": {
      "text/plain": [
       "(9556, 10)"
      ]
     },
     "metadata": {},
     "execution_count": 28
    }
   ],
   "source": [
    "df.shape"
   ]
  },
  {
   "cell_type": "code",
   "execution_count": 29,
   "metadata": {},
   "outputs": [
    {
     "output_type": "execute_result",
     "data": {
      "text/plain": [
       "  Profile Name           Start Time  Duration  \\\n",
       "0         Kids  2020-05-10 10:05:12  00:00:05   \n",
       "1         Kids  2020-04-12 09:00:28  01:16:56   \n",
       "2       Rattey  2021-04-19 11:10:06  00:38:26   \n",
       "3       Rattey  2021-04-19 08:43:26  00:00:51   \n",
       "4       Rattey  2021-04-19 08:42:06  00:01:17   \n",
       "\n",
       "                                    Attributes  \\\n",
       "0              Autoplayed: user action: None;    \n",
       "1                                          NaN   \n",
       "2                                          NaN   \n",
       "3                                          NaN   \n",
       "4  Autoplayed: user action: User_Interaction;    \n",
       "\n",
       "                                               Title Supplemental Video Type  \\\n",
       "0  DreamWorks How to Train Your Dragon Legends: V...                    HOOK   \n",
       "1                           How to Train Your Dragon                     NaN   \n",
       "2  The Real Housewives of Beverly Hills: Season 1...                     NaN   \n",
       "3  The Fix: Season 1: Let's Fix Immigration (Epis...                     NaN   \n",
       "4  The Fix: Season 1: Let's Fix Social Media (Epi...                     NaN   \n",
       "\n",
       "                                   Device Type  Bookmark Latest Bookmark  \\\n",
       "0  MStar PureTurnkey51 Skyworth OEM2K Smart TV  00:00:05        00:00:05   \n",
       "1                          Chrome PC (Cadmium)  01:30:35        01:30:35   \n",
       "2                          Chrome PC (Cadmium)  00:40:47        00:40:47   \n",
       "3                          Chrome PC (Cadmium)  00:01:01        00:01:01   \n",
       "4                          Chrome PC (Cadmium)  00:29:20        00:29:20   \n",
       "\n",
       "      Country  \n",
       "0  IN (India)  \n",
       "1  IN (India)  \n",
       "2  IN (India)  \n",
       "3  IN (India)  \n",
       "4  IN (India)  "
      ],
      "text/html": "<div>\n<style scoped>\n    .dataframe tbody tr th:only-of-type {\n        vertical-align: middle;\n    }\n\n    .dataframe tbody tr th {\n        vertical-align: top;\n    }\n\n    .dataframe thead th {\n        text-align: right;\n    }\n</style>\n<table border=\"1\" class=\"dataframe\">\n  <thead>\n    <tr style=\"text-align: right;\">\n      <th></th>\n      <th>Profile Name</th>\n      <th>Start Time</th>\n      <th>Duration</th>\n      <th>Attributes</th>\n      <th>Title</th>\n      <th>Supplemental Video Type</th>\n      <th>Device Type</th>\n      <th>Bookmark</th>\n      <th>Latest Bookmark</th>\n      <th>Country</th>\n    </tr>\n  </thead>\n  <tbody>\n    <tr>\n      <th>0</th>\n      <td>Kids</td>\n      <td>2020-05-10 10:05:12</td>\n      <td>00:00:05</td>\n      <td>Autoplayed: user action: None;</td>\n      <td>DreamWorks How to Train Your Dragon Legends: V...</td>\n      <td>HOOK</td>\n      <td>MStar PureTurnkey51 Skyworth OEM2K Smart TV</td>\n      <td>00:00:05</td>\n      <td>00:00:05</td>\n      <td>IN (India)</td>\n    </tr>\n    <tr>\n      <th>1</th>\n      <td>Kids</td>\n      <td>2020-04-12 09:00:28</td>\n      <td>01:16:56</td>\n      <td>NaN</td>\n      <td>How to Train Your Dragon</td>\n      <td>NaN</td>\n      <td>Chrome PC (Cadmium)</td>\n      <td>01:30:35</td>\n      <td>01:30:35</td>\n      <td>IN (India)</td>\n    </tr>\n    <tr>\n      <th>2</th>\n      <td>Rattey</td>\n      <td>2021-04-19 11:10:06</td>\n      <td>00:38:26</td>\n      <td>NaN</td>\n      <td>The Real Housewives of Beverly Hills: Season 1...</td>\n      <td>NaN</td>\n      <td>Chrome PC (Cadmium)</td>\n      <td>00:40:47</td>\n      <td>00:40:47</td>\n      <td>IN (India)</td>\n    </tr>\n    <tr>\n      <th>3</th>\n      <td>Rattey</td>\n      <td>2021-04-19 08:43:26</td>\n      <td>00:00:51</td>\n      <td>NaN</td>\n      <td>The Fix: Season 1: Let's Fix Immigration (Epis...</td>\n      <td>NaN</td>\n      <td>Chrome PC (Cadmium)</td>\n      <td>00:01:01</td>\n      <td>00:01:01</td>\n      <td>IN (India)</td>\n    </tr>\n    <tr>\n      <th>4</th>\n      <td>Rattey</td>\n      <td>2021-04-19 08:42:06</td>\n      <td>00:01:17</td>\n      <td>Autoplayed: user action: User_Interaction;</td>\n      <td>The Fix: Season 1: Let's Fix Social Media (Epi...</td>\n      <td>NaN</td>\n      <td>Chrome PC (Cadmium)</td>\n      <td>00:29:20</td>\n      <td>00:29:20</td>\n      <td>IN (India)</td>\n    </tr>\n  </tbody>\n</table>\n</div>"
     },
     "metadata": {},
     "execution_count": 29
    }
   ],
   "source": [
    "dataset_modified = df.copy() #roll back to df if dataset modified. \n",
    "dataset_modified.head()"
   ]
  },
  {
   "cell_type": "code",
   "execution_count": 30,
   "metadata": {},
   "outputs": [
    {
     "output_type": "execute_result",
     "data": {
      "text/plain": [
       "['Profile Name',\n",
       " 'Start Time',\n",
       " 'Duration',\n",
       " 'Attributes',\n",
       " 'Title',\n",
       " 'Supplemental Video Type',\n",
       " 'Device Type',\n",
       " 'Bookmark',\n",
       " 'Latest Bookmark',\n",
       " 'Country']"
      ]
     },
     "metadata": {},
     "execution_count": 30
    }
   ],
   "source": [
    "columns = list(dataset_modified.columns)\n",
    "columns"
   ]
  },
  {
   "cell_type": "code",
   "execution_count": 31,
   "metadata": {},
   "outputs": [
    {
     "output_type": "execute_result",
     "data": {
      "text/plain": [
       "array(['Kids', 'Rattey', 'mehal', 'sejal'], dtype=object)"
      ]
     },
     "metadata": {},
     "execution_count": 31
    }
   ],
   "source": [
    "dataset_modified['Profile Name'].unique()"
   ]
  },
  {
   "cell_type": "code",
   "execution_count": 32,
   "metadata": {},
   "outputs": [
    {
     "output_type": "execute_result",
     "data": {
      "text/plain": [
       "  Profile Name           Start Time  Duration  \\\n",
       "2       Rattey  2021-04-19 11:10:06  00:38:26   \n",
       "3       Rattey  2021-04-19 08:43:26  00:00:51   \n",
       "4       Rattey  2021-04-19 08:42:06  00:01:17   \n",
       "5       Rattey  2021-04-19 08:41:48  00:00:13   \n",
       "6       Rattey  2021-04-15 15:57:06  00:00:11   \n",
       "\n",
       "                                    Attributes  \\\n",
       "2                                          NaN   \n",
       "3                                          NaN   \n",
       "4  Autoplayed: user action: User_Interaction;    \n",
       "5              Autoplayed: user action: None;    \n",
       "6              Autoplayed: user action: None;    \n",
       "\n",
       "                                               Title Supplemental Video Type  \\\n",
       "2  The Real Housewives of Beverly Hills: Season 1...                     NaN   \n",
       "3  The Fix: Season 1: Let's Fix Immigration (Epis...                     NaN   \n",
       "4  The Fix: Season 1: Let's Fix Social Media (Epi...                     NaN   \n",
       "5  Season 1 Direct Lift 1: Highlight Jamie Foxx/D...                    HOOK   \n",
       "6                          LOVEANDMONSTERS_CLIP_PLOT                    HOOK   \n",
       "\n",
       "           Device Type  Bookmark Latest Bookmark     Country  \n",
       "2  Chrome PC (Cadmium)  00:40:47        00:40:47  IN (India)  \n",
       "3  Chrome PC (Cadmium)  00:01:01        00:01:01  IN (India)  \n",
       "4  Chrome PC (Cadmium)  00:29:20        00:29:20  IN (India)  \n",
       "5  Chrome PC (Cadmium)  00:00:13        00:00:13  IN (India)  \n",
       "6  Chrome PC (Cadmium)  00:00:11        00:00:11  IN (India)  "
      ],
      "text/html": "<div>\n<style scoped>\n    .dataframe tbody tr th:only-of-type {\n        vertical-align: middle;\n    }\n\n    .dataframe tbody tr th {\n        vertical-align: top;\n    }\n\n    .dataframe thead th {\n        text-align: right;\n    }\n</style>\n<table border=\"1\" class=\"dataframe\">\n  <thead>\n    <tr style=\"text-align: right;\">\n      <th></th>\n      <th>Profile Name</th>\n      <th>Start Time</th>\n      <th>Duration</th>\n      <th>Attributes</th>\n      <th>Title</th>\n      <th>Supplemental Video Type</th>\n      <th>Device Type</th>\n      <th>Bookmark</th>\n      <th>Latest Bookmark</th>\n      <th>Country</th>\n    </tr>\n  </thead>\n  <tbody>\n    <tr>\n      <th>2</th>\n      <td>Rattey</td>\n      <td>2021-04-19 11:10:06</td>\n      <td>00:38:26</td>\n      <td>NaN</td>\n      <td>The Real Housewives of Beverly Hills: Season 1...</td>\n      <td>NaN</td>\n      <td>Chrome PC (Cadmium)</td>\n      <td>00:40:47</td>\n      <td>00:40:47</td>\n      <td>IN (India)</td>\n    </tr>\n    <tr>\n      <th>3</th>\n      <td>Rattey</td>\n      <td>2021-04-19 08:43:26</td>\n      <td>00:00:51</td>\n      <td>NaN</td>\n      <td>The Fix: Season 1: Let's Fix Immigration (Epis...</td>\n      <td>NaN</td>\n      <td>Chrome PC (Cadmium)</td>\n      <td>00:01:01</td>\n      <td>00:01:01</td>\n      <td>IN (India)</td>\n    </tr>\n    <tr>\n      <th>4</th>\n      <td>Rattey</td>\n      <td>2021-04-19 08:42:06</td>\n      <td>00:01:17</td>\n      <td>Autoplayed: user action: User_Interaction;</td>\n      <td>The Fix: Season 1: Let's Fix Social Media (Epi...</td>\n      <td>NaN</td>\n      <td>Chrome PC (Cadmium)</td>\n      <td>00:29:20</td>\n      <td>00:29:20</td>\n      <td>IN (India)</td>\n    </tr>\n    <tr>\n      <th>5</th>\n      <td>Rattey</td>\n      <td>2021-04-19 08:41:48</td>\n      <td>00:00:13</td>\n      <td>Autoplayed: user action: None;</td>\n      <td>Season 1 Direct Lift 1: Highlight Jamie Foxx/D...</td>\n      <td>HOOK</td>\n      <td>Chrome PC (Cadmium)</td>\n      <td>00:00:13</td>\n      <td>00:00:13</td>\n      <td>IN (India)</td>\n    </tr>\n    <tr>\n      <th>6</th>\n      <td>Rattey</td>\n      <td>2021-04-15 15:57:06</td>\n      <td>00:00:11</td>\n      <td>Autoplayed: user action: None;</td>\n      <td>LOVEANDMONSTERS_CLIP_PLOT</td>\n      <td>HOOK</td>\n      <td>Chrome PC (Cadmium)</td>\n      <td>00:00:11</td>\n      <td>00:00:11</td>\n      <td>IN (India)</td>\n    </tr>\n  </tbody>\n</table>\n</div>"
     },
     "metadata": {},
     "execution_count": 32
    }
   ],
   "source": [
    "#Get only data for my viewing history\n",
    "my_data = dataset_modified[dataset_modified['Profile Name'] == 'Rattey']\n",
    "my_data.head()"
   ]
  },
  {
   "cell_type": "code",
   "execution_count": 33,
   "metadata": {},
   "outputs": [],
   "source": [
    "my_data.reset_index(inplace= True)"
   ]
  },
  {
   "cell_type": "code",
   "execution_count": 34,
   "metadata": {},
   "outputs": [
    {
     "output_type": "execute_result",
     "data": {
      "text/plain": [
       "   index Profile Name           Start Time  Duration  \\\n",
       "0      2       Rattey  2021-04-19 11:10:06  00:38:26   \n",
       "1      3       Rattey  2021-04-19 08:43:26  00:00:51   \n",
       "2      4       Rattey  2021-04-19 08:42:06  00:01:17   \n",
       "3      5       Rattey  2021-04-19 08:41:48  00:00:13   \n",
       "4      6       Rattey  2021-04-15 15:57:06  00:00:11   \n",
       "\n",
       "                                    Attributes  \\\n",
       "0                                          NaN   \n",
       "1                                          NaN   \n",
       "2  Autoplayed: user action: User_Interaction;    \n",
       "3              Autoplayed: user action: None;    \n",
       "4              Autoplayed: user action: None;    \n",
       "\n",
       "                                               Title Supplemental Video Type  \\\n",
       "0  The Real Housewives of Beverly Hills: Season 1...                     NaN   \n",
       "1  The Fix: Season 1: Let's Fix Immigration (Epis...                     NaN   \n",
       "2  The Fix: Season 1: Let's Fix Social Media (Epi...                     NaN   \n",
       "3  Season 1 Direct Lift 1: Highlight Jamie Foxx/D...                    HOOK   \n",
       "4                          LOVEANDMONSTERS_CLIP_PLOT                    HOOK   \n",
       "\n",
       "           Device Type  Bookmark Latest Bookmark     Country  \n",
       "0  Chrome PC (Cadmium)  00:40:47        00:40:47  IN (India)  \n",
       "1  Chrome PC (Cadmium)  00:01:01        00:01:01  IN (India)  \n",
       "2  Chrome PC (Cadmium)  00:29:20        00:29:20  IN (India)  \n",
       "3  Chrome PC (Cadmium)  00:00:13        00:00:13  IN (India)  \n",
       "4  Chrome PC (Cadmium)  00:00:11        00:00:11  IN (India)  "
      ],
      "text/html": "<div>\n<style scoped>\n    .dataframe tbody tr th:only-of-type {\n        vertical-align: middle;\n    }\n\n    .dataframe tbody tr th {\n        vertical-align: top;\n    }\n\n    .dataframe thead th {\n        text-align: right;\n    }\n</style>\n<table border=\"1\" class=\"dataframe\">\n  <thead>\n    <tr style=\"text-align: right;\">\n      <th></th>\n      <th>index</th>\n      <th>Profile Name</th>\n      <th>Start Time</th>\n      <th>Duration</th>\n      <th>Attributes</th>\n      <th>Title</th>\n      <th>Supplemental Video Type</th>\n      <th>Device Type</th>\n      <th>Bookmark</th>\n      <th>Latest Bookmark</th>\n      <th>Country</th>\n    </tr>\n  </thead>\n  <tbody>\n    <tr>\n      <th>0</th>\n      <td>2</td>\n      <td>Rattey</td>\n      <td>2021-04-19 11:10:06</td>\n      <td>00:38:26</td>\n      <td>NaN</td>\n      <td>The Real Housewives of Beverly Hills: Season 1...</td>\n      <td>NaN</td>\n      <td>Chrome PC (Cadmium)</td>\n      <td>00:40:47</td>\n      <td>00:40:47</td>\n      <td>IN (India)</td>\n    </tr>\n    <tr>\n      <th>1</th>\n      <td>3</td>\n      <td>Rattey</td>\n      <td>2021-04-19 08:43:26</td>\n      <td>00:00:51</td>\n      <td>NaN</td>\n      <td>The Fix: Season 1: Let's Fix Immigration (Epis...</td>\n      <td>NaN</td>\n      <td>Chrome PC (Cadmium)</td>\n      <td>00:01:01</td>\n      <td>00:01:01</td>\n      <td>IN (India)</td>\n    </tr>\n    <tr>\n      <th>2</th>\n      <td>4</td>\n      <td>Rattey</td>\n      <td>2021-04-19 08:42:06</td>\n      <td>00:01:17</td>\n      <td>Autoplayed: user action: User_Interaction;</td>\n      <td>The Fix: Season 1: Let's Fix Social Media (Epi...</td>\n      <td>NaN</td>\n      <td>Chrome PC (Cadmium)</td>\n      <td>00:29:20</td>\n      <td>00:29:20</td>\n      <td>IN (India)</td>\n    </tr>\n    <tr>\n      <th>3</th>\n      <td>5</td>\n      <td>Rattey</td>\n      <td>2021-04-19 08:41:48</td>\n      <td>00:00:13</td>\n      <td>Autoplayed: user action: None;</td>\n      <td>Season 1 Direct Lift 1: Highlight Jamie Foxx/D...</td>\n      <td>HOOK</td>\n      <td>Chrome PC (Cadmium)</td>\n      <td>00:00:13</td>\n      <td>00:00:13</td>\n      <td>IN (India)</td>\n    </tr>\n    <tr>\n      <th>4</th>\n      <td>6</td>\n      <td>Rattey</td>\n      <td>2021-04-15 15:57:06</td>\n      <td>00:00:11</td>\n      <td>Autoplayed: user action: None;</td>\n      <td>LOVEANDMONSTERS_CLIP_PLOT</td>\n      <td>HOOK</td>\n      <td>Chrome PC (Cadmium)</td>\n      <td>00:00:11</td>\n      <td>00:00:11</td>\n      <td>IN (India)</td>\n    </tr>\n  </tbody>\n</table>\n</div>"
     },
     "metadata": {},
     "execution_count": 34
    }
   ],
   "source": [
    "my_data.head()"
   ]
  },
  {
   "cell_type": "code",
   "execution_count": 35,
   "metadata": {},
   "outputs": [],
   "source": [
    "columns_to_drop = ['Country', 'Bookmark', 'Latest Bookmark', 'index', 'Attributes']"
   ]
  },
  {
   "cell_type": "code",
   "execution_count": 36,
   "metadata": {},
   "outputs": [],
   "source": [
    "my_data = my_data.drop(columns = columns_to_drop)"
   ]
  },
  {
   "cell_type": "code",
   "execution_count": 37,
   "metadata": {},
   "outputs": [
    {
     "output_type": "execute_result",
     "data": {
      "text/plain": [
       "  Profile Name           Start Time  Duration  \\\n",
       "0       Rattey  2021-04-19 11:10:06  00:38:26   \n",
       "1       Rattey  2021-04-19 08:43:26  00:00:51   \n",
       "2       Rattey  2021-04-19 08:42:06  00:01:17   \n",
       "3       Rattey  2021-04-19 08:41:48  00:00:13   \n",
       "4       Rattey  2021-04-15 15:57:06  00:00:11   \n",
       "\n",
       "                                               Title Supplemental Video Type  \\\n",
       "0  The Real Housewives of Beverly Hills: Season 1...                     NaN   \n",
       "1  The Fix: Season 1: Let's Fix Immigration (Epis...                     NaN   \n",
       "2  The Fix: Season 1: Let's Fix Social Media (Epi...                     NaN   \n",
       "3  Season 1 Direct Lift 1: Highlight Jamie Foxx/D...                    HOOK   \n",
       "4                          LOVEANDMONSTERS_CLIP_PLOT                    HOOK   \n",
       "\n",
       "           Device Type  \n",
       "0  Chrome PC (Cadmium)  \n",
       "1  Chrome PC (Cadmium)  \n",
       "2  Chrome PC (Cadmium)  \n",
       "3  Chrome PC (Cadmium)  \n",
       "4  Chrome PC (Cadmium)  "
      ],
      "text/html": "<div>\n<style scoped>\n    .dataframe tbody tr th:only-of-type {\n        vertical-align: middle;\n    }\n\n    .dataframe tbody tr th {\n        vertical-align: top;\n    }\n\n    .dataframe thead th {\n        text-align: right;\n    }\n</style>\n<table border=\"1\" class=\"dataframe\">\n  <thead>\n    <tr style=\"text-align: right;\">\n      <th></th>\n      <th>Profile Name</th>\n      <th>Start Time</th>\n      <th>Duration</th>\n      <th>Title</th>\n      <th>Supplemental Video Type</th>\n      <th>Device Type</th>\n    </tr>\n  </thead>\n  <tbody>\n    <tr>\n      <th>0</th>\n      <td>Rattey</td>\n      <td>2021-04-19 11:10:06</td>\n      <td>00:38:26</td>\n      <td>The Real Housewives of Beverly Hills: Season 1...</td>\n      <td>NaN</td>\n      <td>Chrome PC (Cadmium)</td>\n    </tr>\n    <tr>\n      <th>1</th>\n      <td>Rattey</td>\n      <td>2021-04-19 08:43:26</td>\n      <td>00:00:51</td>\n      <td>The Fix: Season 1: Let's Fix Immigration (Epis...</td>\n      <td>NaN</td>\n      <td>Chrome PC (Cadmium)</td>\n    </tr>\n    <tr>\n      <th>2</th>\n      <td>Rattey</td>\n      <td>2021-04-19 08:42:06</td>\n      <td>00:01:17</td>\n      <td>The Fix: Season 1: Let's Fix Social Media (Epi...</td>\n      <td>NaN</td>\n      <td>Chrome PC (Cadmium)</td>\n    </tr>\n    <tr>\n      <th>3</th>\n      <td>Rattey</td>\n      <td>2021-04-19 08:41:48</td>\n      <td>00:00:13</td>\n      <td>Season 1 Direct Lift 1: Highlight Jamie Foxx/D...</td>\n      <td>HOOK</td>\n      <td>Chrome PC (Cadmium)</td>\n    </tr>\n    <tr>\n      <th>4</th>\n      <td>Rattey</td>\n      <td>2021-04-15 15:57:06</td>\n      <td>00:00:11</td>\n      <td>LOVEANDMONSTERS_CLIP_PLOT</td>\n      <td>HOOK</td>\n      <td>Chrome PC (Cadmium)</td>\n    </tr>\n  </tbody>\n</table>\n</div>"
     },
     "metadata": {},
     "execution_count": 37
    }
   ],
   "source": [
    "my_data.head()"
   ]
  },
  {
   "cell_type": "code",
   "execution_count": 38,
   "metadata": {},
   "outputs": [
    {
     "output_type": "stream",
     "name": "stdout",
     "text": [
      "<class 'pandas.core.frame.DataFrame'>\nRangeIndex: 883 entries, 0 to 882\nData columns (total 6 columns):\n #   Column                   Non-Null Count  Dtype \n---  ------                   --------------  ----- \n 0   Profile Name             883 non-null    object\n 1   Start Time               883 non-null    object\n 2   Duration                 883 non-null    object\n 3   Title                    883 non-null    object\n 4   Supplemental Video Type  384 non-null    object\n 5   Device Type              883 non-null    object\ndtypes: object(6)\nmemory usage: 41.5+ KB\n"
     ]
    }
   ],
   "source": [
    "my_data.info()"
   ]
  },
  {
   "cell_type": "code",
   "execution_count": 39,
   "metadata": {},
   "outputs": [],
   "source": [
    "my_data = my_data.rename(columns = {'Start Time':'Date'})"
   ]
  },
  {
   "cell_type": "code",
   "execution_count": 48,
   "metadata": {},
   "outputs": [],
   "source": [
    "#Convert Start Time to datetime. Currently it is object\n",
    "my_data['Date'] = pd.to_datetime(my_data['Date'])\n",
    "# my_data['Date'] = my_data['Date'].dt.tz_localize('GMT').dt.tz_convert('Asia/Kolkata') #Convert from UTC to IST. \n",
    "my_data['Year'] = my_data['Date'].dt.year\n",
    "my_data['Month'] = my_data['Date'].dt.month\n",
    "my_data['day_of_week'] = my_data['Date'].dt.dayofweek\n",
    "my_data['day_name'] = my_data['Date'].dt.day_name()"
   ]
  },
  {
   "cell_type": "code",
   "execution_count": 49,
   "metadata": {},
   "outputs": [
    {
     "output_type": "execute_result",
     "data": {
      "text/plain": [
       "  Profile Name                      Date  Duration  \\\n",
       "0       Rattey 2021-04-19 16:40:06+05:30  00:38:26   \n",
       "1       Rattey 2021-04-19 14:13:26+05:30  00:00:51   \n",
       "2       Rattey 2021-04-19 14:12:06+05:30  00:01:17   \n",
       "3       Rattey 2021-04-19 14:11:48+05:30  00:00:13   \n",
       "4       Rattey 2021-04-15 21:27:06+05:30  00:00:11   \n",
       "\n",
       "                                               Title Supplemental Video Type  \\\n",
       "0  The Real Housewives of Beverly Hills: Season 1...                     NaN   \n",
       "1  The Fix: Season 1: Let's Fix Immigration (Epis...                     NaN   \n",
       "2  The Fix: Season 1: Let's Fix Social Media (Epi...                     NaN   \n",
       "3  Season 1 Direct Lift 1: Highlight Jamie Foxx/D...                    HOOK   \n",
       "4                          LOVEANDMONSTERS_CLIP_PLOT                    HOOK   \n",
       "\n",
       "           Device Type  Year  Month  day_of_week  day_name  \n",
       "0  Chrome PC (Cadmium)  2021      4            0    Monday  \n",
       "1  Chrome PC (Cadmium)  2021      4            0    Monday  \n",
       "2  Chrome PC (Cadmium)  2021      4            0    Monday  \n",
       "3  Chrome PC (Cadmium)  2021      4            0    Monday  \n",
       "4  Chrome PC (Cadmium)  2021      4            3  Thursday  "
      ],
      "text/html": "<div>\n<style scoped>\n    .dataframe tbody tr th:only-of-type {\n        vertical-align: middle;\n    }\n\n    .dataframe tbody tr th {\n        vertical-align: top;\n    }\n\n    .dataframe thead th {\n        text-align: right;\n    }\n</style>\n<table border=\"1\" class=\"dataframe\">\n  <thead>\n    <tr style=\"text-align: right;\">\n      <th></th>\n      <th>Profile Name</th>\n      <th>Date</th>\n      <th>Duration</th>\n      <th>Title</th>\n      <th>Supplemental Video Type</th>\n      <th>Device Type</th>\n      <th>Year</th>\n      <th>Month</th>\n      <th>day_of_week</th>\n      <th>day_name</th>\n    </tr>\n  </thead>\n  <tbody>\n    <tr>\n      <th>0</th>\n      <td>Rattey</td>\n      <td>2021-04-19 16:40:06+05:30</td>\n      <td>00:38:26</td>\n      <td>The Real Housewives of Beverly Hills: Season 1...</td>\n      <td>NaN</td>\n      <td>Chrome PC (Cadmium)</td>\n      <td>2021</td>\n      <td>4</td>\n      <td>0</td>\n      <td>Monday</td>\n    </tr>\n    <tr>\n      <th>1</th>\n      <td>Rattey</td>\n      <td>2021-04-19 14:13:26+05:30</td>\n      <td>00:00:51</td>\n      <td>The Fix: Season 1: Let's Fix Immigration (Epis...</td>\n      <td>NaN</td>\n      <td>Chrome PC (Cadmium)</td>\n      <td>2021</td>\n      <td>4</td>\n      <td>0</td>\n      <td>Monday</td>\n    </tr>\n    <tr>\n      <th>2</th>\n      <td>Rattey</td>\n      <td>2021-04-19 14:12:06+05:30</td>\n      <td>00:01:17</td>\n      <td>The Fix: Season 1: Let's Fix Social Media (Epi...</td>\n      <td>NaN</td>\n      <td>Chrome PC (Cadmium)</td>\n      <td>2021</td>\n      <td>4</td>\n      <td>0</td>\n      <td>Monday</td>\n    </tr>\n    <tr>\n      <th>3</th>\n      <td>Rattey</td>\n      <td>2021-04-19 14:11:48+05:30</td>\n      <td>00:00:13</td>\n      <td>Season 1 Direct Lift 1: Highlight Jamie Foxx/D...</td>\n      <td>HOOK</td>\n      <td>Chrome PC (Cadmium)</td>\n      <td>2021</td>\n      <td>4</td>\n      <td>0</td>\n      <td>Monday</td>\n    </tr>\n    <tr>\n      <th>4</th>\n      <td>Rattey</td>\n      <td>2021-04-15 21:27:06+05:30</td>\n      <td>00:00:11</td>\n      <td>LOVEANDMONSTERS_CLIP_PLOT</td>\n      <td>HOOK</td>\n      <td>Chrome PC (Cadmium)</td>\n      <td>2021</td>\n      <td>4</td>\n      <td>3</td>\n      <td>Thursday</td>\n    </tr>\n  </tbody>\n</table>\n</div>"
     },
     "metadata": {},
     "execution_count": 49
    }
   ],
   "source": [
    "my_data.head()"
   ]
  },
  {
   "cell_type": "code",
   "execution_count": 50,
   "metadata": {},
   "outputs": [
    {
     "output_type": "execute_result",
     "data": {
      "text/plain": [
       "TRAILER           215\n",
       "HOOK              159\n",
       "BONUS_VIDEO         4\n",
       "TEASER_TRAILER      4\n",
       "PREVIEW             2\n",
       "Name: Supplemental Video Type, dtype: int64"
      ]
     },
     "metadata": {},
     "execution_count": 50
    }
   ],
   "source": [
    "my_data['Supplemental Video Type'].value_counts()"
   ]
  },
  {
   "cell_type": "code",
   "execution_count": 51,
   "metadata": {},
   "outputs": [],
   "source": [
    "my_data = my_data[my_data['Supplemental Video Type'].isna()]"
   ]
  },
  {
   "cell_type": "code",
   "execution_count": 52,
   "metadata": {},
   "outputs": [
    {
     "output_type": "execute_result",
     "data": {
      "text/plain": [
       "  Profile Name                      Date  Duration  \\\n",
       "0       Rattey 2021-04-19 16:40:06+05:30  00:38:26   \n",
       "1       Rattey 2021-04-19 14:13:26+05:30  00:00:51   \n",
       "2       Rattey 2021-04-19 14:12:06+05:30  00:01:17   \n",
       "5       Rattey 2021-04-15 10:34:16+05:30  00:27:53   \n",
       "7       Rattey 2021-04-09 22:04:08+05:30  01:37:39   \n",
       "\n",
       "                                               Title Supplemental Video Type  \\\n",
       "0  The Real Housewives of Beverly Hills: Season 1...                     NaN   \n",
       "1  The Fix: Season 1: Let's Fix Immigration (Epis...                     NaN   \n",
       "2  The Fix: Season 1: Let's Fix Social Media (Epi...                     NaN   \n",
       "5  The Fix: Season 1: Let's Fix Social Media (Epi...                     NaN   \n",
       "7                                      Thunder Force                     NaN   \n",
       "\n",
       "                 Device Type  Year  Month  day_of_week  day_name  \n",
       "0        Chrome PC (Cadmium)  2021      4            0    Monday  \n",
       "1        Chrome PC (Cadmium)  2021      4            0    Monday  \n",
       "2        Chrome PC (Cadmium)  2021      4            0    Monday  \n",
       "5  Apple iPhone 7 Plus (GSM)  2021      4            3  Thursday  \n",
       "7  Apple iPhone 7 Plus (GSM)  2021      4            4    Friday  "
      ],
      "text/html": "<div>\n<style scoped>\n    .dataframe tbody tr th:only-of-type {\n        vertical-align: middle;\n    }\n\n    .dataframe tbody tr th {\n        vertical-align: top;\n    }\n\n    .dataframe thead th {\n        text-align: right;\n    }\n</style>\n<table border=\"1\" class=\"dataframe\">\n  <thead>\n    <tr style=\"text-align: right;\">\n      <th></th>\n      <th>Profile Name</th>\n      <th>Date</th>\n      <th>Duration</th>\n      <th>Title</th>\n      <th>Supplemental Video Type</th>\n      <th>Device Type</th>\n      <th>Year</th>\n      <th>Month</th>\n      <th>day_of_week</th>\n      <th>day_name</th>\n    </tr>\n  </thead>\n  <tbody>\n    <tr>\n      <th>0</th>\n      <td>Rattey</td>\n      <td>2021-04-19 16:40:06+05:30</td>\n      <td>00:38:26</td>\n      <td>The Real Housewives of Beverly Hills: Season 1...</td>\n      <td>NaN</td>\n      <td>Chrome PC (Cadmium)</td>\n      <td>2021</td>\n      <td>4</td>\n      <td>0</td>\n      <td>Monday</td>\n    </tr>\n    <tr>\n      <th>1</th>\n      <td>Rattey</td>\n      <td>2021-04-19 14:13:26+05:30</td>\n      <td>00:00:51</td>\n      <td>The Fix: Season 1: Let's Fix Immigration (Epis...</td>\n      <td>NaN</td>\n      <td>Chrome PC (Cadmium)</td>\n      <td>2021</td>\n      <td>4</td>\n      <td>0</td>\n      <td>Monday</td>\n    </tr>\n    <tr>\n      <th>2</th>\n      <td>Rattey</td>\n      <td>2021-04-19 14:12:06+05:30</td>\n      <td>00:01:17</td>\n      <td>The Fix: Season 1: Let's Fix Social Media (Epi...</td>\n      <td>NaN</td>\n      <td>Chrome PC (Cadmium)</td>\n      <td>2021</td>\n      <td>4</td>\n      <td>0</td>\n      <td>Monday</td>\n    </tr>\n    <tr>\n      <th>5</th>\n      <td>Rattey</td>\n      <td>2021-04-15 10:34:16+05:30</td>\n      <td>00:27:53</td>\n      <td>The Fix: Season 1: Let's Fix Social Media (Epi...</td>\n      <td>NaN</td>\n      <td>Apple iPhone 7 Plus (GSM)</td>\n      <td>2021</td>\n      <td>4</td>\n      <td>3</td>\n      <td>Thursday</td>\n    </tr>\n    <tr>\n      <th>7</th>\n      <td>Rattey</td>\n      <td>2021-04-09 22:04:08+05:30</td>\n      <td>01:37:39</td>\n      <td>Thunder Force</td>\n      <td>NaN</td>\n      <td>Apple iPhone 7 Plus (GSM)</td>\n      <td>2021</td>\n      <td>4</td>\n      <td>4</td>\n      <td>Friday</td>\n    </tr>\n  </tbody>\n</table>\n</div>"
     },
     "metadata": {},
     "execution_count": 52
    }
   ],
   "source": [
    "my_data.head()"
   ]
  },
  {
   "cell_type": "code",
   "execution_count": 67,
   "metadata": {},
   "outputs": [],
   "source": [
    "# temp = my_data['Title'].str.split(':')[:5]"
   ]
  },
  {
   "cell_type": "code",
   "execution_count": 53,
   "metadata": {},
   "outputs": [
    {
     "output_type": "stream",
     "name": "stderr",
     "text": [
      "C:\\Users\\Hemant Rattey\\anaconda3\\envs\\minimalds\\lib\\site-packages\\pandas\\core\\frame.py:3191: SettingWithCopyWarning: \nA value is trying to be set on a copy of a slice from a DataFrame.\nTry using .loc[row_indexer,col_indexer] = value instead\n\nSee the caveats in the documentation: https://pandas.pydata.org/pandas-docs/stable/user_guide/indexing.html#returning-a-view-versus-a-copy\n  self[k1] = value[k2]\n"
     ]
    }
   ],
   "source": [
    "my_data[['TV Show', 'Season', 'Episode']] = my_data['Title'].str.split(':', expand = True, n = 2)"
   ]
  },
  {
   "cell_type": "code",
   "execution_count": 54,
   "metadata": {},
   "outputs": [
    {
     "output_type": "execute_result",
     "data": {
      "text/plain": [
       "  Profile Name                      Date  Duration  \\\n",
       "0       Rattey 2021-04-19 16:40:06+05:30  00:38:26   \n",
       "1       Rattey 2021-04-19 14:13:26+05:30  00:00:51   \n",
       "2       Rattey 2021-04-19 14:12:06+05:30  00:01:17   \n",
       "5       Rattey 2021-04-15 10:34:16+05:30  00:27:53   \n",
       "7       Rattey 2021-04-09 22:04:08+05:30  01:37:39   \n",
       "\n",
       "                                               Title Supplemental Video Type  \\\n",
       "0  The Real Housewives of Beverly Hills: Season 1...                     NaN   \n",
       "1  The Fix: Season 1: Let's Fix Immigration (Epis...                     NaN   \n",
       "2  The Fix: Season 1: Let's Fix Social Media (Epi...                     NaN   \n",
       "5  The Fix: Season 1: Let's Fix Social Media (Epi...                     NaN   \n",
       "7                                      Thunder Force                     NaN   \n",
       "\n",
       "                 Device Type  Year  Month  day_of_week  day_name  \\\n",
       "0        Chrome PC (Cadmium)  2021      4            0    Monday   \n",
       "1        Chrome PC (Cadmium)  2021      4            0    Monday   \n",
       "2        Chrome PC (Cadmium)  2021      4            0    Monday   \n",
       "5  Apple iPhone 7 Plus (GSM)  2021      4            3  Thursday   \n",
       "7  Apple iPhone 7 Plus (GSM)  2021      4            4    Friday   \n",
       "\n",
       "                                TV Show     Season  \\\n",
       "0  The Real Housewives of Beverly Hills   Season 1   \n",
       "1                               The Fix   Season 1   \n",
       "2                               The Fix   Season 1   \n",
       "5                               The Fix   Season 1   \n",
       "7                         Thunder Force       None   \n",
       "\n",
       "                                             Episode  \n",
       "0   Life, Liberty and the Pursuit of Wealthiness ...  \n",
       "1                  Let's Fix Immigration (Episode 2)  \n",
       "2                 Let's Fix Social Media (Episode 1)  \n",
       "5                 Let's Fix Social Media (Episode 1)  \n",
       "7                                               None  "
      ],
      "text/html": "<div>\n<style scoped>\n    .dataframe tbody tr th:only-of-type {\n        vertical-align: middle;\n    }\n\n    .dataframe tbody tr th {\n        vertical-align: top;\n    }\n\n    .dataframe thead th {\n        text-align: right;\n    }\n</style>\n<table border=\"1\" class=\"dataframe\">\n  <thead>\n    <tr style=\"text-align: right;\">\n      <th></th>\n      <th>Profile Name</th>\n      <th>Date</th>\n      <th>Duration</th>\n      <th>Title</th>\n      <th>Supplemental Video Type</th>\n      <th>Device Type</th>\n      <th>Year</th>\n      <th>Month</th>\n      <th>day_of_week</th>\n      <th>day_name</th>\n      <th>TV Show</th>\n      <th>Season</th>\n      <th>Episode</th>\n    </tr>\n  </thead>\n  <tbody>\n    <tr>\n      <th>0</th>\n      <td>Rattey</td>\n      <td>2021-04-19 16:40:06+05:30</td>\n      <td>00:38:26</td>\n      <td>The Real Housewives of Beverly Hills: Season 1...</td>\n      <td>NaN</td>\n      <td>Chrome PC (Cadmium)</td>\n      <td>2021</td>\n      <td>4</td>\n      <td>0</td>\n      <td>Monday</td>\n      <td>The Real Housewives of Beverly Hills</td>\n      <td>Season 1</td>\n      <td>Life, Liberty and the Pursuit of Wealthiness ...</td>\n    </tr>\n    <tr>\n      <th>1</th>\n      <td>Rattey</td>\n      <td>2021-04-19 14:13:26+05:30</td>\n      <td>00:00:51</td>\n      <td>The Fix: Season 1: Let's Fix Immigration (Epis...</td>\n      <td>NaN</td>\n      <td>Chrome PC (Cadmium)</td>\n      <td>2021</td>\n      <td>4</td>\n      <td>0</td>\n      <td>Monday</td>\n      <td>The Fix</td>\n      <td>Season 1</td>\n      <td>Let's Fix Immigration (Episode 2)</td>\n    </tr>\n    <tr>\n      <th>2</th>\n      <td>Rattey</td>\n      <td>2021-04-19 14:12:06+05:30</td>\n      <td>00:01:17</td>\n      <td>The Fix: Season 1: Let's Fix Social Media (Epi...</td>\n      <td>NaN</td>\n      <td>Chrome PC (Cadmium)</td>\n      <td>2021</td>\n      <td>4</td>\n      <td>0</td>\n      <td>Monday</td>\n      <td>The Fix</td>\n      <td>Season 1</td>\n      <td>Let's Fix Social Media (Episode 1)</td>\n    </tr>\n    <tr>\n      <th>5</th>\n      <td>Rattey</td>\n      <td>2021-04-15 10:34:16+05:30</td>\n      <td>00:27:53</td>\n      <td>The Fix: Season 1: Let's Fix Social Media (Epi...</td>\n      <td>NaN</td>\n      <td>Apple iPhone 7 Plus (GSM)</td>\n      <td>2021</td>\n      <td>4</td>\n      <td>3</td>\n      <td>Thursday</td>\n      <td>The Fix</td>\n      <td>Season 1</td>\n      <td>Let's Fix Social Media (Episode 1)</td>\n    </tr>\n    <tr>\n      <th>7</th>\n      <td>Rattey</td>\n      <td>2021-04-09 22:04:08+05:30</td>\n      <td>01:37:39</td>\n      <td>Thunder Force</td>\n      <td>NaN</td>\n      <td>Apple iPhone 7 Plus (GSM)</td>\n      <td>2021</td>\n      <td>4</td>\n      <td>4</td>\n      <td>Friday</td>\n      <td>Thunder Force</td>\n      <td>None</td>\n      <td>None</td>\n    </tr>\n  </tbody>\n</table>\n</div>"
     },
     "metadata": {},
     "execution_count": 54
    }
   ],
   "source": [
    "my_data.head()"
   ]
  },
  {
   "cell_type": "code",
   "execution_count": 55,
   "metadata": {},
   "outputs": [
    {
     "output_type": "stream",
     "name": "stderr",
     "text": [
      "<ipython-input-55-95c0464e7862>:1: SettingWithCopyWarning: \nA value is trying to be set on a copy of a slice from a DataFrame.\nTry using .loc[row_indexer,col_indexer] = value instead\n\nSee the caveats in the documentation: https://pandas.pydata.org/pandas-docs/stable/user_guide/indexing.html#returning-a-view-versus-a-copy\n  my_data['Content Type'] = my_data['Season'].apply(lambda x : 'Movie' if x == None else 'TV Show')\n"
     ]
    }
   ],
   "source": [
    "my_data['Content Type'] = my_data['Season'].apply(lambda x : 'Movie' if x == None else 'TV Show')"
   ]
  },
  {
   "cell_type": "code",
   "execution_count": 105,
   "metadata": {},
   "outputs": [],
   "source": [
    "# my_data.drop(columns = ['Content Type', 'Attributes'], inplace=True)"
   ]
  },
  {
   "cell_type": "code",
   "execution_count": 56,
   "metadata": {},
   "outputs": [],
   "source": [
    "my_data = my_data.rename(columns = {'Temp':'Content Type'})"
   ]
  },
  {
   "cell_type": "code",
   "execution_count": 57,
   "metadata": {},
   "outputs": [
    {
     "output_type": "execute_result",
     "data": {
      "text/plain": [
       "  Profile Name                      Date  Duration  \\\n",
       "0       Rattey 2021-04-19 16:40:06+05:30  00:38:26   \n",
       "1       Rattey 2021-04-19 14:13:26+05:30  00:00:51   \n",
       "2       Rattey 2021-04-19 14:12:06+05:30  00:01:17   \n",
       "5       Rattey 2021-04-15 10:34:16+05:30  00:27:53   \n",
       "7       Rattey 2021-04-09 22:04:08+05:30  01:37:39   \n",
       "\n",
       "                                               Title Supplemental Video Type  \\\n",
       "0  The Real Housewives of Beverly Hills: Season 1...                     NaN   \n",
       "1  The Fix: Season 1: Let's Fix Immigration (Epis...                     NaN   \n",
       "2  The Fix: Season 1: Let's Fix Social Media (Epi...                     NaN   \n",
       "5  The Fix: Season 1: Let's Fix Social Media (Epi...                     NaN   \n",
       "7                                      Thunder Force                     NaN   \n",
       "\n",
       "                 Device Type  Year  Month  day_of_week  day_name  \\\n",
       "0        Chrome PC (Cadmium)  2021      4            0    Monday   \n",
       "1        Chrome PC (Cadmium)  2021      4            0    Monday   \n",
       "2        Chrome PC (Cadmium)  2021      4            0    Monday   \n",
       "5  Apple iPhone 7 Plus (GSM)  2021      4            3  Thursday   \n",
       "7  Apple iPhone 7 Plus (GSM)  2021      4            4    Friday   \n",
       "\n",
       "                                TV Show     Season  \\\n",
       "0  The Real Housewives of Beverly Hills   Season 1   \n",
       "1                               The Fix   Season 1   \n",
       "2                               The Fix   Season 1   \n",
       "5                               The Fix   Season 1   \n",
       "7                         Thunder Force       None   \n",
       "\n",
       "                                             Episode Content Type  \n",
       "0   Life, Liberty and the Pursuit of Wealthiness ...      TV Show  \n",
       "1                  Let's Fix Immigration (Episode 2)      TV Show  \n",
       "2                 Let's Fix Social Media (Episode 1)      TV Show  \n",
       "5                 Let's Fix Social Media (Episode 1)      TV Show  \n",
       "7                                               None        Movie  "
      ],
      "text/html": "<div>\n<style scoped>\n    .dataframe tbody tr th:only-of-type {\n        vertical-align: middle;\n    }\n\n    .dataframe tbody tr th {\n        vertical-align: top;\n    }\n\n    .dataframe thead th {\n        text-align: right;\n    }\n</style>\n<table border=\"1\" class=\"dataframe\">\n  <thead>\n    <tr style=\"text-align: right;\">\n      <th></th>\n      <th>Profile Name</th>\n      <th>Date</th>\n      <th>Duration</th>\n      <th>Title</th>\n      <th>Supplemental Video Type</th>\n      <th>Device Type</th>\n      <th>Year</th>\n      <th>Month</th>\n      <th>day_of_week</th>\n      <th>day_name</th>\n      <th>TV Show</th>\n      <th>Season</th>\n      <th>Episode</th>\n      <th>Content Type</th>\n    </tr>\n  </thead>\n  <tbody>\n    <tr>\n      <th>0</th>\n      <td>Rattey</td>\n      <td>2021-04-19 16:40:06+05:30</td>\n      <td>00:38:26</td>\n      <td>The Real Housewives of Beverly Hills: Season 1...</td>\n      <td>NaN</td>\n      <td>Chrome PC (Cadmium)</td>\n      <td>2021</td>\n      <td>4</td>\n      <td>0</td>\n      <td>Monday</td>\n      <td>The Real Housewives of Beverly Hills</td>\n      <td>Season 1</td>\n      <td>Life, Liberty and the Pursuit of Wealthiness ...</td>\n      <td>TV Show</td>\n    </tr>\n    <tr>\n      <th>1</th>\n      <td>Rattey</td>\n      <td>2021-04-19 14:13:26+05:30</td>\n      <td>00:00:51</td>\n      <td>The Fix: Season 1: Let's Fix Immigration (Epis...</td>\n      <td>NaN</td>\n      <td>Chrome PC (Cadmium)</td>\n      <td>2021</td>\n      <td>4</td>\n      <td>0</td>\n      <td>Monday</td>\n      <td>The Fix</td>\n      <td>Season 1</td>\n      <td>Let's Fix Immigration (Episode 2)</td>\n      <td>TV Show</td>\n    </tr>\n    <tr>\n      <th>2</th>\n      <td>Rattey</td>\n      <td>2021-04-19 14:12:06+05:30</td>\n      <td>00:01:17</td>\n      <td>The Fix: Season 1: Let's Fix Social Media (Epi...</td>\n      <td>NaN</td>\n      <td>Chrome PC (Cadmium)</td>\n      <td>2021</td>\n      <td>4</td>\n      <td>0</td>\n      <td>Monday</td>\n      <td>The Fix</td>\n      <td>Season 1</td>\n      <td>Let's Fix Social Media (Episode 1)</td>\n      <td>TV Show</td>\n    </tr>\n    <tr>\n      <th>5</th>\n      <td>Rattey</td>\n      <td>2021-04-15 10:34:16+05:30</td>\n      <td>00:27:53</td>\n      <td>The Fix: Season 1: Let's Fix Social Media (Epi...</td>\n      <td>NaN</td>\n      <td>Apple iPhone 7 Plus (GSM)</td>\n      <td>2021</td>\n      <td>4</td>\n      <td>3</td>\n      <td>Thursday</td>\n      <td>The Fix</td>\n      <td>Season 1</td>\n      <td>Let's Fix Social Media (Episode 1)</td>\n      <td>TV Show</td>\n    </tr>\n    <tr>\n      <th>7</th>\n      <td>Rattey</td>\n      <td>2021-04-09 22:04:08+05:30</td>\n      <td>01:37:39</td>\n      <td>Thunder Force</td>\n      <td>NaN</td>\n      <td>Apple iPhone 7 Plus (GSM)</td>\n      <td>2021</td>\n      <td>4</td>\n      <td>4</td>\n      <td>Friday</td>\n      <td>Thunder Force</td>\n      <td>None</td>\n      <td>None</td>\n      <td>Movie</td>\n    </tr>\n  </tbody>\n</table>\n</div>"
     },
     "metadata": {},
     "execution_count": 57
    }
   ],
   "source": [
    "my_data.head()"
   ]
  },
  {
   "cell_type": "code",
   "execution_count": 58,
   "metadata": {},
   "outputs": [],
   "source": [
    "my_data = my_data.drop(columns = 'Supplemental Video Type')"
   ]
  },
  {
   "cell_type": "code",
   "execution_count": 61,
   "metadata": {},
   "outputs": [],
   "source": [
    "my_data['date_of_month'] = my_data['Date'].dt.day"
   ]
  },
  {
   "cell_type": "code",
   "execution_count": 63,
   "metadata": {},
   "outputs": [],
   "source": [
    "my_data = my_data[['Profile Name', 'Date', 'date_of_month', 'day_of_week', 'day_name', 'Month', 'Year', 'Duration', 'Title', 'TV Show', 'Season', 'Episode', 'Content Type', 'Device Type']]"
   ]
  },
  {
   "cell_type": "code",
   "execution_count": 64,
   "metadata": {},
   "outputs": [
    {
     "output_type": "execute_result",
     "data": {
      "text/plain": [
       "  Profile Name                      Date  date_of_month  day_of_week  \\\n",
       "0       Rattey 2021-04-19 16:40:06+05:30             19            0   \n",
       "1       Rattey 2021-04-19 14:13:26+05:30             19            0   \n",
       "2       Rattey 2021-04-19 14:12:06+05:30             19            0   \n",
       "5       Rattey 2021-04-15 10:34:16+05:30             15            3   \n",
       "7       Rattey 2021-04-09 22:04:08+05:30              9            4   \n",
       "\n",
       "   day_name  Month  Year  Duration  \\\n",
       "0    Monday      4  2021  00:38:26   \n",
       "1    Monday      4  2021  00:00:51   \n",
       "2    Monday      4  2021  00:01:17   \n",
       "5  Thursday      4  2021  00:27:53   \n",
       "7    Friday      4  2021  01:37:39   \n",
       "\n",
       "                                               Title  \\\n",
       "0  The Real Housewives of Beverly Hills: Season 1...   \n",
       "1  The Fix: Season 1: Let's Fix Immigration (Epis...   \n",
       "2  The Fix: Season 1: Let's Fix Social Media (Epi...   \n",
       "5  The Fix: Season 1: Let's Fix Social Media (Epi...   \n",
       "7                                      Thunder Force   \n",
       "\n",
       "                                TV Show     Season  \\\n",
       "0  The Real Housewives of Beverly Hills   Season 1   \n",
       "1                               The Fix   Season 1   \n",
       "2                               The Fix   Season 1   \n",
       "5                               The Fix   Season 1   \n",
       "7                         Thunder Force       None   \n",
       "\n",
       "                                             Episode Content Type  \\\n",
       "0   Life, Liberty and the Pursuit of Wealthiness ...      TV Show   \n",
       "1                  Let's Fix Immigration (Episode 2)      TV Show   \n",
       "2                 Let's Fix Social Media (Episode 1)      TV Show   \n",
       "5                 Let's Fix Social Media (Episode 1)      TV Show   \n",
       "7                                               None        Movie   \n",
       "\n",
       "                 Device Type  \n",
       "0        Chrome PC (Cadmium)  \n",
       "1        Chrome PC (Cadmium)  \n",
       "2        Chrome PC (Cadmium)  \n",
       "5  Apple iPhone 7 Plus (GSM)  \n",
       "7  Apple iPhone 7 Plus (GSM)  "
      ],
      "text/html": "<div>\n<style scoped>\n    .dataframe tbody tr th:only-of-type {\n        vertical-align: middle;\n    }\n\n    .dataframe tbody tr th {\n        vertical-align: top;\n    }\n\n    .dataframe thead th {\n        text-align: right;\n    }\n</style>\n<table border=\"1\" class=\"dataframe\">\n  <thead>\n    <tr style=\"text-align: right;\">\n      <th></th>\n      <th>Profile Name</th>\n      <th>Date</th>\n      <th>date_of_month</th>\n      <th>day_of_week</th>\n      <th>day_name</th>\n      <th>Month</th>\n      <th>Year</th>\n      <th>Duration</th>\n      <th>Title</th>\n      <th>TV Show</th>\n      <th>Season</th>\n      <th>Episode</th>\n      <th>Content Type</th>\n      <th>Device Type</th>\n    </tr>\n  </thead>\n  <tbody>\n    <tr>\n      <th>0</th>\n      <td>Rattey</td>\n      <td>2021-04-19 16:40:06+05:30</td>\n      <td>19</td>\n      <td>0</td>\n      <td>Monday</td>\n      <td>4</td>\n      <td>2021</td>\n      <td>00:38:26</td>\n      <td>The Real Housewives of Beverly Hills: Season 1...</td>\n      <td>The Real Housewives of Beverly Hills</td>\n      <td>Season 1</td>\n      <td>Life, Liberty and the Pursuit of Wealthiness ...</td>\n      <td>TV Show</td>\n      <td>Chrome PC (Cadmium)</td>\n    </tr>\n    <tr>\n      <th>1</th>\n      <td>Rattey</td>\n      <td>2021-04-19 14:13:26+05:30</td>\n      <td>19</td>\n      <td>0</td>\n      <td>Monday</td>\n      <td>4</td>\n      <td>2021</td>\n      <td>00:00:51</td>\n      <td>The Fix: Season 1: Let's Fix Immigration (Epis...</td>\n      <td>The Fix</td>\n      <td>Season 1</td>\n      <td>Let's Fix Immigration (Episode 2)</td>\n      <td>TV Show</td>\n      <td>Chrome PC (Cadmium)</td>\n    </tr>\n    <tr>\n      <th>2</th>\n      <td>Rattey</td>\n      <td>2021-04-19 14:12:06+05:30</td>\n      <td>19</td>\n      <td>0</td>\n      <td>Monday</td>\n      <td>4</td>\n      <td>2021</td>\n      <td>00:01:17</td>\n      <td>The Fix: Season 1: Let's Fix Social Media (Epi...</td>\n      <td>The Fix</td>\n      <td>Season 1</td>\n      <td>Let's Fix Social Media (Episode 1)</td>\n      <td>TV Show</td>\n      <td>Chrome PC (Cadmium)</td>\n    </tr>\n    <tr>\n      <th>5</th>\n      <td>Rattey</td>\n      <td>2021-04-15 10:34:16+05:30</td>\n      <td>15</td>\n      <td>3</td>\n      <td>Thursday</td>\n      <td>4</td>\n      <td>2021</td>\n      <td>00:27:53</td>\n      <td>The Fix: Season 1: Let's Fix Social Media (Epi...</td>\n      <td>The Fix</td>\n      <td>Season 1</td>\n      <td>Let's Fix Social Media (Episode 1)</td>\n      <td>TV Show</td>\n      <td>Apple iPhone 7 Plus (GSM)</td>\n    </tr>\n    <tr>\n      <th>7</th>\n      <td>Rattey</td>\n      <td>2021-04-09 22:04:08+05:30</td>\n      <td>9</td>\n      <td>4</td>\n      <td>Friday</td>\n      <td>4</td>\n      <td>2021</td>\n      <td>01:37:39</td>\n      <td>Thunder Force</td>\n      <td>Thunder Force</td>\n      <td>None</td>\n      <td>None</td>\n      <td>Movie</td>\n      <td>Apple iPhone 7 Plus (GSM)</td>\n    </tr>\n  </tbody>\n</table>\n</div>"
     },
     "metadata": {},
     "execution_count": 64
    }
   ],
   "source": [
    "my_data.head()"
   ]
  },
  {
   "cell_type": "code",
   "execution_count": 65,
   "metadata": {},
   "outputs": [],
   "source": [
    "my_data.to_csv('final_data.csv', index=False) #CHECKPOINT"
   ]
  },
  {
   "cell_type": "code",
   "execution_count": null,
   "metadata": {},
   "outputs": [],
   "source": []
  }
 ]
}